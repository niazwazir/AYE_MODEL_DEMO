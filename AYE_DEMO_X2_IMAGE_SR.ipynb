{
  "nbformat": 4,
  "nbformat_minor": 0,
  "metadata": {
    "colab": {
      "name": "Untitled28.ipynb",
      "provenance": []
    },
    "kernelspec": {
      "name": "python3",
      "display_name": "Python 3"
    },
    "language_info": {
      "name": "python"
    },
    "accelerator": "GPU",
    "gpuClass": "standard"
  },
  "cells": [
    {
      "cell_type": "code",
      "execution_count": 1,
      "metadata": {
        "colab": {
          "base_uri": "https://localhost:8080/"
        },
        "id": "6wTHocaNB8RQ",
        "outputId": "b00fe2cc-9e69-48d2-94b9-c508f197bb73"
      },
      "outputs": [
        {
          "output_type": "stream",
          "name": "stdout",
          "text": [
            "Cloning into 'AYE_MODEL_DEMO'...\n",
            "remote: Enumerating objects: 1361, done.\u001b[K\n",
            "remote: Counting objects: 100% (263/263), done.\u001b[K\n",
            "remote: Compressing objects: 100% (251/251), done.\u001b[K\n",
            "remote: Total 1361 (delta 21), reused 217 (delta 12), pack-reused 1098\u001b[K\n",
            "Receiving objects: 100% (1361/1361), 316.87 MiB | 47.40 MiB/s, done.\n",
            "Resolving deltas: 100% (197/197), done.\n"
          ]
        }
      ],
      "source": [
        "!git clone https://github.com/niazwazir/AYE_MODEL_DEMO.git"
      ]
    },
    {
      "cell_type": "code",
      "source": [
        "cd AYE_MODEL_DEMO/"
      ],
      "metadata": {
        "colab": {
          "base_uri": "https://localhost:8080/"
        },
        "id": "kkrCM-pvB_MU",
        "outputId": "f5e1c5e3-2f1b-48ca-b4fb-23b9432f5237"
      },
      "execution_count": 2,
      "outputs": [
        {
          "output_type": "stream",
          "name": "stdout",
          "text": [
            "/content/AYE_MODEL_DEMO\n"
          ]
        }
      ]
    },
    {
      "cell_type": "code",
      "source": [
        "!python train.py  --steps=10000 --scale=2 --batch_size=128 --save-best-only=1 --save-every=1 --ckpt-dir=\"checkpoint/x2\" "
      ],
      "metadata": {
        "colab": {
          "base_uri": "https://localhost:8080/"
        },
        "id": "NGg5wA3sCHd7",
        "outputId": "42256a4c-0be4-4670-d7d8-4611b58b2377"
      },
      "execution_count": 3,
      "outputs": [
        {
          "output_type": "stream",
          "name": "stdout",
          "text": [
            "2022-08-19 21:03:56.504521: W tensorflow/core/common_runtime/gpu/gpu_bfc_allocator.cc:39] Overriding allow_growth setting because the TF_FORCE_GPU_ALLOW_GROWTH environment variable is set. Original config value was 0.\n",
            "dataset/train/im_001.png\n",
            "dataset/train/im_002.png\n",
            "dataset/train/im_003.png\n",
            "dataset/train/im_004.png\n",
            "dataset/train/im_005.png\n",
            "dataset/train/im_006.png\n",
            "dataset/train/im_007.png\n",
            "dataset/train/im_008.png\n",
            "dataset/train/im_009.png\n",
            "dataset/train/im_010.png\n",
            "dataset/train/im_011.png\n",
            "dataset/train/im_012.png\n",
            "dataset/train/im_013.png\n",
            "dataset/train/im_014.png\n",
            "dataset/train/im_015.png\n",
            "dataset/train/im_016.png\n",
            "dataset/train/im_017.png\n",
            "dataset/train/im_018.png\n",
            "dataset/train/im_019.png\n",
            "dataset/train/im_020.png\n",
            "dataset/train/im_021.png\n",
            "dataset/train/im_022.png\n",
            "dataset/train/im_023.png\n",
            "dataset/train/im_024.png\n",
            "dataset/train/im_025.png\n",
            "dataset/train/im_026.png\n",
            "dataset/train/im_027.png\n",
            "dataset/train/im_028.png\n",
            "dataset/train/im_029.png\n",
            "dataset/train/im_030.png\n",
            "dataset/train/im_031.png\n",
            "dataset/train/im_032.png\n",
            "dataset/train/im_033.png\n",
            "dataset/train/im_034.png\n",
            "dataset/train/im_035.png\n",
            "dataset/train/im_036.png\n",
            "dataset/train/im_037.png\n",
            "dataset/train/im_038.png\n",
            "dataset/train/im_039.png\n",
            "dataset/train/im_040.png\n",
            "dataset/train/im_041.png\n",
            "dataset/train/im_042.png\n",
            "dataset/train/im_043.png\n",
            "dataset/train/im_044.png\n",
            "dataset/train/im_045.png\n",
            "dataset/train/im_046.png\n",
            "dataset/train/im_047.png\n",
            "dataset/train/im_048.png\n",
            "dataset/train/im_049.png\n",
            "dataset/train/im_050.png\n",
            "dataset/train/im_051.png\n",
            "dataset/train/im_052.png\n",
            "dataset/train/im_053.png\n",
            "dataset/train/im_054.png\n",
            "dataset/train/im_055.png\n",
            "dataset/train/im_056.png\n",
            "dataset/train/im_057.png\n",
            "dataset/train/im_058.png\n",
            "dataset/train/im_059.png\n",
            "dataset/train/im_060.png\n",
            "dataset/train/im_061.png\n",
            "dataset/train/im_062.png\n",
            "dataset/train/im_063.png\n",
            "dataset/train/im_064.png\n",
            "dataset/train/im_065.png\n",
            "dataset/train/im_066.png\n",
            "dataset/train/im_067.png\n",
            "dataset/train/im_068.png\n",
            "dataset/train/im_069.png\n",
            "dataset/train/im_070.png\n",
            "dataset/train/im_071.png\n",
            "dataset/train/im_072.png\n",
            "dataset/train/im_073.png\n",
            "dataset/train/im_074.png\n",
            "dataset/train/im_075.png\n",
            "dataset/train/im_076.png\n",
            "dataset/train/im_077.png\n",
            "dataset/train/im_078.png\n",
            "dataset/train/im_079.png\n",
            "dataset/train/im_080.png\n",
            "dataset/train/im_081.png\n",
            "dataset/train/im_082.png\n",
            "dataset/train/im_083.png\n",
            "dataset/train/im_084.png\n",
            "dataset/train/im_085.png\n",
            "dataset/train/im_086.png\n",
            "dataset/train/im_087.png\n",
            "dataset/train/im_088.png\n",
            "dataset/train/im_089.png\n",
            "dataset/train/im_090.png\n",
            "dataset/train/im_091.png\n",
            "dataset/train/im_092.png\n",
            "dataset/train/im_093.png\n",
            "dataset/train/im_094.png\n",
            "dataset/train/im_095.png\n",
            "dataset/train/im_096.png\n",
            "dataset/train/im_097.png\n",
            "dataset/train/im_098.png\n",
            "dataset/train/im_099.png\n",
            "dataset/train/im_100.png\n",
            "dataset/train/t1.bmp\n",
            "dataset/train/t10.bmp\n",
            "dataset/train/t11.bmp\n",
            "dataset/train/t12.bmp\n",
            "dataset/train/t13.bmp\n",
            "dataset/train/t14.bmp\n",
            "dataset/train/t15.bmp\n",
            "dataset/train/t16.bmp\n",
            "dataset/train/t17.bmp\n",
            "dataset/train/t18.bmp\n",
            "dataset/train/t19.bmp\n",
            "dataset/train/t2.bmp\n",
            "dataset/train/t20.bmp\n",
            "dataset/train/t21.bmp\n",
            "dataset/train/t22.bmp\n",
            "dataset/train/t23.bmp\n",
            "dataset/train/t24.bmp\n",
            "dataset/train/t25.bmp\n",
            "dataset/train/t26.bmp\n",
            "dataset/train/t27.bmp\n",
            "dataset/train/t28.bmp\n",
            "dataset/train/t29.bmp\n",
            "dataset/train/t3.bmp\n",
            "dataset/train/t30.bmp\n",
            "dataset/train/t31.bmp\n",
            "dataset/train/t32.bmp\n",
            "dataset/train/t33.bmp\n",
            "dataset/train/t34.bmp\n",
            "dataset/train/t35.bmp\n",
            "dataset/train/t36.bmp\n",
            "dataset/train/t37.bmp\n",
            "dataset/train/t38.bmp\n",
            "dataset/train/t39.bmp\n",
            "dataset/train/t4.bmp\n",
            "dataset/train/t40.bmp\n",
            "dataset/train/t42.bmp\n",
            "dataset/train/t43.bmp\n",
            "dataset/train/t44.bmp\n",
            "dataset/train/t45.bmp\n",
            "dataset/train/t46.bmp\n",
            "dataset/train/t47.bmp\n",
            "dataset/train/t48.bmp\n",
            "dataset/train/t49.bmp\n",
            "dataset/train/t5.bmp\n",
            "dataset/train/t50.bmp\n",
            "dataset/train/t51.bmp\n",
            "dataset/train/t52.bmp\n",
            "dataset/train/t53.bmp\n",
            "dataset/train/t54.bmp\n",
            "dataset/train/t55.bmp\n",
            "dataset/train/t56.bmp\n",
            "dataset/train/t57.bmp\n",
            "dataset/train/t58.bmp\n",
            "dataset/train/t59.bmp\n",
            "dataset/train/t6.bmp\n",
            "dataset/train/t60.bmp\n",
            "dataset/train/t61.bmp\n",
            "dataset/train/t62.bmp\n",
            "dataset/train/t63.bmp\n",
            "dataset/train/t64.bmp\n",
            "dataset/train/t65.bmp\n",
            "dataset/train/t66.bmp\n",
            "dataset/train/t7.bmp\n",
            "dataset/train/t8.bmp\n",
            "dataset/train/t9.bmp\n",
            "dataset/train/tt1.bmp\n",
            "dataset/train/tt10.bmp\n",
            "dataset/train/tt12.bmp\n",
            "dataset/train/tt13.bmp\n",
            "dataset/train/tt14.bmp\n",
            "dataset/train/tt15.bmp\n",
            "dataset/train/tt16.bmp\n",
            "dataset/train/tt17.bmp\n",
            "dataset/train/tt18.bmp\n",
            "dataset/train/tt19.bmp\n",
            "dataset/train/tt2.bmp\n",
            "dataset/train/tt20.bmp\n",
            "dataset/train/tt21.bmp\n",
            "dataset/train/tt22.bmp\n",
            "dataset/train/tt23.bmp\n",
            "dataset/train/tt24.bmp\n",
            "dataset/train/tt25.bmp\n",
            "dataset/train/tt26.bmp\n",
            "dataset/train/tt27.bmp\n",
            "dataset/train/tt3.bmp\n",
            "dataset/train/tt4.bmp\n",
            "dataset/train/tt5.bmp\n",
            "dataset/train/tt6.bmp\n",
            "dataset/train/tt7.bmp\n",
            "dataset/train/tt8.bmp\n",
            "dataset/train/tt9.bmp\n",
            "dataset/validation/baby_HR_x2.png\n",
            "dataset/validation/bird_HR_x2.png\n",
            "dataset/validation/butterfly_HR_x2.png\n",
            "dataset/validation/head_HR_x2.png\n",
            "dataset/validation/img_003_SRF_4_HR.png\n",
            "dataset/validation/img_004_SRF_4_HR.png\n",
            "dataset/validation/img_005_SRF_4_HR.png\n",
            "dataset/validation/woman_HR_x2.png\n",
            "dataset/test/baboon_HR_x2.png\n",
            "dataset/test/barbara_HR_x2.png\n",
            "dataset/test/bridge_HR_x2.png\n",
            "dataset/test/coastguard_HR_x2.png\n",
            "dataset/test/comic_HR_x2.png\n",
            "dataset/test/face_HR_x2.png\n",
            "dataset/test/flowers_HR_x2.png\n",
            "dataset/test/foreman_HR_x2.png\n",
            "dataset/test/lenna_HR_x2.png\n",
            "dataset/test/man_HR_x2.png\n",
            "dataset/test/monarch_HR_x2.png\n",
            "dataset/test/pepper_HR_x2.png\n",
            "dataset/test/ppt3_HR_x2.png\n",
            "dataset/test/zebra_HR_x2.png\n",
            "Step 207200/208100 - loss: 0.0002919 - PSNR: 35.398 - val_loss: 0.0001743 - val_PSNR: 37.636\n",
            "Step 207300/208100 - loss: 0.0002912 - PSNR: 35.427 - val_loss: 0.0001701 - val_PSNR: 37.745\n",
            "Step 207400/208100 - loss: 0.0002886 - PSNR: 35.452 - val_loss: 0.0001742 - val_PSNR: 37.640\n",
            "Step 207500/208100 - loss: 0.0002796 - PSNR: 35.590 - val_loss: 0.0001707 - val_PSNR: 37.730\n",
            "Step 207600/208100 - loss: 0.0002938 - PSNR: 35.382 - val_loss: 0.0001714 - val_PSNR: 37.709\n",
            "Step 207700/208100 - loss: 0.0002943 - PSNR: 35.375 - val_loss: 0.0001749 - val_PSNR: 37.620\n",
            "Step 207800/208100 - loss: 0.0002825 - PSNR: 35.556 - val_loss: 0.0001696 - val_PSNR: 37.757\n",
            "Step 207900/208100 - loss: 0.0002831 - PSNR: 35.536 - val_loss: 0.0001707 - val_PSNR: 37.730\n",
            "Step 208000/208100 - loss: 0.0002923 - PSNR: 35.399 - val_loss: 0.0001801 - val_PSNR: 37.489\n",
            "Step 208100/208100 - loss: 0.0002855 - PSNR: 35.509 - val_loss: 0.0001721 - val_PSNR: 37.693\n",
            "loss: 0.0005228386726230383 - psnr: 32.92033386230469\n"
          ]
        }
      ]
    },
    {
      "cell_type": "code",
      "source": [
        "!python average_psnr_x2_SET5.py"
      ],
      "metadata": {
        "colab": {
          "base_uri": "https://localhost:8080/"
        },
        "id": "CnAZkzB1COn6",
        "outputId": "2e15cc7e-0d66-4b57-9304-e76ca5751810"
      },
      "execution_count": 4,
      "outputs": [
        {
          "output_type": "stream",
          "name": "stdout",
          "text": [
            "2022-08-19 21:10:07.973607: W tensorflow/core/common_runtime/gpu/gpu_bfc_allocator.cc:39] Overriding allow_growth setting because the TF_FORCE_GPU_ALLOW_GROWTH environment variable is set. Original config value was 0.\n",
            "37.69009170532227\n"
          ]
        }
      ]
    },
    {
      "cell_type": "code",
      "source": [
        "!python average_psnr_x2_SET14.py"
      ],
      "metadata": {
        "id": "oNYXn0aGJU1Q",
        "outputId": "5d975fa5-18b7-4e12-89e1-92020884a6cf",
        "colab": {
          "base_uri": "https://localhost:8080/"
        }
      },
      "execution_count": 5,
      "outputs": [
        {
          "output_type": "stream",
          "name": "stdout",
          "text": [
            "2022-08-19 21:10:15.211648: W tensorflow/core/common_runtime/gpu/gpu_bfc_allocator.cc:39] Overriding allow_growth setting because the TF_FORCE_GPU_ALLOW_GROWTH environment variable is set. Original config value was 0.\n",
            "34.023229462759836\n"
          ]
        }
      ]
    },
    {
      "cell_type": "code",
      "source": [
        "!python average_psnr_x2_BSD100.py"
      ],
      "metadata": {
        "id": "B8QV4-hFLfCA",
        "outputId": "86e74dc7-1c6e-4740-bb29-aec3bcb8ef55",
        "colab": {
          "base_uri": "https://localhost:8080/"
        }
      },
      "execution_count": 6,
      "outputs": [
        {
          "output_type": "stream",
          "name": "stdout",
          "text": [
            "2022-08-19 21:10:24.126688: W tensorflow/core/common_runtime/gpu/gpu_bfc_allocator.cc:39] Overriding allow_growth setting because the TF_FORCE_GPU_ALLOW_GROWTH environment variable is set. Original config value was 0.\n",
            "33.95723585128784\n"
          ]
        }
      ]
    },
    {
      "cell_type": "code",
      "source": [
        "!python average_psnr_x2_URBAN100.py"
      ],
      "metadata": {
        "id": "_ReX-TB_LfGG",
        "outputId": "db3b3fac-ff46-4ca5-f9fc-6e0e0d68483c",
        "colab": {
          "base_uri": "https://localhost:8080/"
        }
      },
      "execution_count": 7,
      "outputs": [
        {
          "output_type": "stream",
          "name": "stdout",
          "text": [
            "2022-08-19 21:10:33.352496: W tensorflow/core/common_runtime/gpu/gpu_bfc_allocator.cc:39] Overriding allow_growth setting because the TF_FORCE_GPU_ALLOW_GROWTH environment variable is set. Original config value was 0.\n",
            "31.36874080657959\n"
          ]
        }
      ]
    },
    {
      "cell_type": "code",
      "source": [
        "!python average_psnr_x2_MANGA109.py"
      ],
      "metadata": {
        "id": "jv3MSyA1LfKO",
        "outputId": "8366165b-8869-49b6-e9d1-cf4a4dc6f1f2",
        "colab": {
          "base_uri": "https://localhost:8080/"
        }
      },
      "execution_count": 8,
      "outputs": [
        {
          "output_type": "stream",
          "name": "stdout",
          "text": [
            "2022-08-19 21:10:46.770640: W tensorflow/core/common_runtime/gpu/gpu_bfc_allocator.cc:39] Overriding allow_growth setting because the TF_FORCE_GPU_ALLOW_GROWTH environment variable is set. Original config value was 0.\n",
            "36.67217991330208\n"
          ]
        }
      ]
    }
  ]
}